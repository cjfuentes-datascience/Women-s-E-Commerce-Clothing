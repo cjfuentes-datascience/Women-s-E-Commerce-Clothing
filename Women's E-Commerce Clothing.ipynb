{
 "cells": [
  {
   "cell_type": "code",
   "execution_count": 99,
   "metadata": {},
   "outputs": [],
   "source": [
    "import pandas as pd\n",
    "import numpy as np\n",
    "from sklearn.preprocessing import StandardScaler"
   ]
  },
  {
   "cell_type": "code",
   "execution_count": 100,
   "metadata": {},
   "outputs": [],
   "source": [
    "reviews = pd.read_csv(r\"C:\\Users\\Carlos\\Documents\\Python Projects\\Women's E-Commerce Clothing\\reviews.csv\")"
   ]
  },
  {
   "cell_type": "code",
   "execution_count": 101,
   "metadata": {},
   "outputs": [
    {
     "data": {
      "text/html": [
       "<div>\n",
       "<style scoped>\n",
       "    .dataframe tbody tr th:only-of-type {\n",
       "        vertical-align: middle;\n",
       "    }\n",
       "\n",
       "    .dataframe tbody tr th {\n",
       "        vertical-align: top;\n",
       "    }\n",
       "\n",
       "    .dataframe thead th {\n",
       "        text-align: right;\n",
       "    }\n",
       "</style>\n",
       "<table border=\"1\" class=\"dataframe\">\n",
       "  <thead>\n",
       "    <tr style=\"text-align: right;\">\n",
       "      <th></th>\n",
       "      <th>clothing_id</th>\n",
       "      <th>age</th>\n",
       "      <th>review_title</th>\n",
       "      <th>review_text</th>\n",
       "      <th>recommended</th>\n",
       "      <th>division_name</th>\n",
       "      <th>department_name</th>\n",
       "      <th>review_date</th>\n",
       "      <th>rating</th>\n",
       "    </tr>\n",
       "  </thead>\n",
       "  <tbody>\n",
       "    <tr>\n",
       "      <th>0</th>\n",
       "      <td>1095</td>\n",
       "      <td>39</td>\n",
       "      <td>Cute,looks like a dress on</td>\n",
       "      <td>If you are afraid of the jumpsuit trend but li...</td>\n",
       "      <td>True</td>\n",
       "      <td>General</td>\n",
       "      <td>Dresses</td>\n",
       "      <td>2019-07-08</td>\n",
       "      <td>Liked it</td>\n",
       "    </tr>\n",
       "    <tr>\n",
       "      <th>1</th>\n",
       "      <td>1095</td>\n",
       "      <td>28</td>\n",
       "      <td>So cute, great print!</td>\n",
       "      <td>I love fitted top dresses like this but i find...</td>\n",
       "      <td>True</td>\n",
       "      <td>General</td>\n",
       "      <td>Dresses</td>\n",
       "      <td>2019-05-17</td>\n",
       "      <td>Loved it</td>\n",
       "    </tr>\n",
       "    <tr>\n",
       "      <th>2</th>\n",
       "      <td>699</td>\n",
       "      <td>37</td>\n",
       "      <td>So flattering!</td>\n",
       "      <td>I love these cozy, fashionable leggings. they ...</td>\n",
       "      <td>True</td>\n",
       "      <td>Initmates</td>\n",
       "      <td>Intimate</td>\n",
       "      <td>2019-06-24</td>\n",
       "      <td>Loved it</td>\n",
       "    </tr>\n",
       "    <tr>\n",
       "      <th>3</th>\n",
       "      <td>1072</td>\n",
       "      <td>36</td>\n",
       "      <td>Effortless</td>\n",
       "      <td>Another reviewer said it best, \"i love the way...</td>\n",
       "      <td>True</td>\n",
       "      <td>General Petite</td>\n",
       "      <td>Dresses</td>\n",
       "      <td>2019-12-06</td>\n",
       "      <td>Loved it</td>\n",
       "    </tr>\n",
       "    <tr>\n",
       "      <th>4</th>\n",
       "      <td>1094</td>\n",
       "      <td>32</td>\n",
       "      <td>You need this!</td>\n",
       "      <td>Rompers are my fav so i'm biased writing this ...</td>\n",
       "      <td>True</td>\n",
       "      <td>General</td>\n",
       "      <td>Dresses</td>\n",
       "      <td>2019-10-04</td>\n",
       "      <td>Loved it</td>\n",
       "    </tr>\n",
       "    <tr>\n",
       "      <th>...</th>\n",
       "      <td>...</td>\n",
       "      <td>...</td>\n",
       "      <td>...</td>\n",
       "      <td>...</td>\n",
       "      <td>...</td>\n",
       "      <td>...</td>\n",
       "      <td>...</td>\n",
       "      <td>...</td>\n",
       "      <td>...</td>\n",
       "    </tr>\n",
       "    <tr>\n",
       "      <th>4995</th>\n",
       "      <td>918</td>\n",
       "      <td>38</td>\n",
       "      <td>Unique sweater</td>\n",
       "      <td>I tried it in the store but was not the true s...</td>\n",
       "      <td>True</td>\n",
       "      <td>General Petite</td>\n",
       "      <td>Tops</td>\n",
       "      <td>2019-05-26</td>\n",
       "      <td>Loved it</td>\n",
       "    </tr>\n",
       "    <tr>\n",
       "      <th>4996</th>\n",
       "      <td>950</td>\n",
       "      <td>33</td>\n",
       "      <td>The brown/gray version is cropped</td>\n",
       "      <td>The photos don't look it, but the one i receiv...</td>\n",
       "      <td>False</td>\n",
       "      <td>General</td>\n",
       "      <td>Tops</td>\n",
       "      <td>2019-10-21</td>\n",
       "      <td>Hated it</td>\n",
       "    </tr>\n",
       "    <tr>\n",
       "      <th>4997</th>\n",
       "      <td>1086</td>\n",
       "      <td>36</td>\n",
       "      <td>NaN</td>\n",
       "      <td>Simple, classic, figure flattering, and reason...</td>\n",
       "      <td>True</td>\n",
       "      <td>General Petite</td>\n",
       "      <td>Dresses</td>\n",
       "      <td>2019-10-18</td>\n",
       "      <td>Loved it</td>\n",
       "    </tr>\n",
       "    <tr>\n",
       "      <th>4998</th>\n",
       "      <td>1033</td>\n",
       "      <td>28</td>\n",
       "      <td>If you have a big booty, get these jeans now</td>\n",
       "      <td>I have a tough time shopping for jeans because...</td>\n",
       "      <td>True</td>\n",
       "      <td>General Petite</td>\n",
       "      <td>Bottoms</td>\n",
       "      <td>2019-11-24</td>\n",
       "      <td>Loved it</td>\n",
       "    </tr>\n",
       "    <tr>\n",
       "      <th>4999</th>\n",
       "      <td>850</td>\n",
       "      <td>64</td>\n",
       "      <td>Makes me feel pretty</td>\n",
       "      <td>I love this off the shoulder top. it is so fla...</td>\n",
       "      <td>True</td>\n",
       "      <td>General</td>\n",
       "      <td>Tops</td>\n",
       "      <td>2019-10-31</td>\n",
       "      <td>Loved it</td>\n",
       "    </tr>\n",
       "  </tbody>\n",
       "</table>\n",
       "<p>5000 rows × 9 columns</p>\n",
       "</div>"
      ],
      "text/plain": [
       "      clothing_id  age                                  review_title  \\\n",
       "0            1095   39                    Cute,looks like a dress on   \n",
       "1            1095   28                         So cute, great print!   \n",
       "2             699   37                                So flattering!   \n",
       "3            1072   36                                    Effortless   \n",
       "4            1094   32                                You need this!   \n",
       "...           ...  ...                                           ...   \n",
       "4995          918   38                                Unique sweater   \n",
       "4996          950   33             The brown/gray version is cropped   \n",
       "4997         1086   36                                           NaN   \n",
       "4998         1033   28  If you have a big booty, get these jeans now   \n",
       "4999          850   64                          Makes me feel pretty   \n",
       "\n",
       "                                            review_text  recommended  \\\n",
       "0     If you are afraid of the jumpsuit trend but li...         True   \n",
       "1     I love fitted top dresses like this but i find...         True   \n",
       "2     I love these cozy, fashionable leggings. they ...         True   \n",
       "3     Another reviewer said it best, \"i love the way...         True   \n",
       "4     Rompers are my fav so i'm biased writing this ...         True   \n",
       "...                                                 ...          ...   \n",
       "4995  I tried it in the store but was not the true s...         True   \n",
       "4996  The photos don't look it, but the one i receiv...        False   \n",
       "4997  Simple, classic, figure flattering, and reason...         True   \n",
       "4998  I have a tough time shopping for jeans because...         True   \n",
       "4999  I love this off the shoulder top. it is so fla...         True   \n",
       "\n",
       "       division_name department_name review_date    rating  \n",
       "0            General         Dresses  2019-07-08  Liked it  \n",
       "1            General         Dresses  2019-05-17  Loved it  \n",
       "2          Initmates        Intimate  2019-06-24  Loved it  \n",
       "3     General Petite         Dresses  2019-12-06  Loved it  \n",
       "4            General         Dresses  2019-10-04  Loved it  \n",
       "...              ...             ...         ...       ...  \n",
       "4995  General Petite            Tops  2019-05-26  Loved it  \n",
       "4996         General            Tops  2019-10-21  Hated it  \n",
       "4997  General Petite         Dresses  2019-10-18  Loved it  \n",
       "4998  General Petite         Bottoms  2019-11-24  Loved it  \n",
       "4999         General            Tops  2019-10-31  Loved it  \n",
       "\n",
       "[5000 rows x 9 columns]"
      ]
     },
     "execution_count": 101,
     "metadata": {},
     "output_type": "execute_result"
    }
   ],
   "source": [
    "reviews"
   ]
  },
  {
   "cell_type": "code",
   "execution_count": 102,
   "metadata": {},
   "outputs": [
    {
     "data": {
      "text/plain": [
       "Index(['clothing_id', 'age', 'review_title', 'review_text', 'recommended',\n",
       "       'division_name', 'department_name', 'review_date', 'rating'],\n",
       "      dtype='object')"
      ]
     },
     "execution_count": 102,
     "metadata": {},
     "output_type": "execute_result"
    }
   ],
   "source": [
    "reviews.columns"
   ]
  },
  {
   "cell_type": "code",
   "execution_count": 103,
   "metadata": {},
   "outputs": [
    {
     "name": "stdout",
     "output_type": "stream",
     "text": [
      "<class 'pandas.core.frame.DataFrame'>\n",
      "RangeIndex: 5000 entries, 0 to 4999\n",
      "Data columns (total 9 columns):\n",
      " #   Column           Non-Null Count  Dtype \n",
      "---  ------           --------------  ----- \n",
      " 0   clothing_id      5000 non-null   int64 \n",
      " 1   age              5000 non-null   int64 \n",
      " 2   review_title     4174 non-null   object\n",
      " 3   review_text      4804 non-null   object\n",
      " 4   recommended      5000 non-null   bool  \n",
      " 5   division_name    4996 non-null   object\n",
      " 6   department_name  4996 non-null   object\n",
      " 7   review_date      5000 non-null   object\n",
      " 8   rating           5000 non-null   object\n",
      "dtypes: bool(1), int64(2), object(6)\n",
      "memory usage: 317.5+ KB\n"
     ]
    }
   ],
   "source": [
    "reviews.info()"
   ]
  },
  {
   "attachments": {},
   "cell_type": "markdown",
   "metadata": {},
   "source": [
    "Transform the recommended feature. Start by printing the feature’s .value_counts().\n",
    "\n",
    "\n"
   ]
  },
  {
   "cell_type": "code",
   "execution_count": 104,
   "metadata": {},
   "outputs": [
    {
     "data": {
      "text/plain": [
       "True     4166\n",
       "False     834\n",
       "Name: recommended, dtype: int64"
      ]
     },
     "execution_count": 104,
     "metadata": {},
     "output_type": "execute_result"
    }
   ],
   "source": [
    "reviews['recommended'].value_counts()"
   ]
  },
  {
   "attachments": {},
   "cell_type": "markdown",
   "metadata": {},
   "source": [
    "Since this is a True/False feature, we want to transform it to 1 for True and 0 for False.\n",
    "\n",
    "To do this, create a dictionary called binary_dict where:\n",
    "\n",
    "The keys are what is currently in the recommended feature.\n",
    "The values are what we want in the new column (0s and 1s).\n"
   ]
  },
  {
   "cell_type": "code",
   "execution_count": 105,
   "metadata": {},
   "outputs": [],
   "source": [
    "binary_dict = {True:1, False:0}"
   ]
  },
  {
   "attachments": {},
   "cell_type": "markdown",
   "metadata": {},
   "source": [
    "Using binary_dict, transform the recommended column so that it will now be binary. Print the results using .value_counts() to confirm the transformation.\n",
    "\n",
    "\n"
   ]
  },
  {
   "cell_type": "code",
   "execution_count": 106,
   "metadata": {},
   "outputs": [],
   "source": [
    "reviews['recommended'] = reviews['recommended'].map(binary_dict)"
   ]
  },
  {
   "cell_type": "code",
   "execution_count": 107,
   "metadata": {},
   "outputs": [
    {
     "data": {
      "text/plain": [
       "1    4166\n",
       "0     834\n",
       "Name: recommended, dtype: int64"
      ]
     },
     "execution_count": 107,
     "metadata": {},
     "output_type": "execute_result"
    }
   ],
   "source": [
    "reviews['recommended'].value_counts()"
   ]
  },
  {
   "attachments": {},
   "cell_type": "markdown",
   "metadata": {},
   "source": [
    "Let’s run through a similar process to transform the rating feature. This is ordinal data so our transformation should make that more clear. Again, start by printing the .value_counts().\n",
    "\n"
   ]
  },
  {
   "cell_type": "code",
   "execution_count": 108,
   "metadata": {},
   "outputs": [
    {
     "data": {
      "text/plain": [
       "Loved it     2798\n",
       "Liked it     1141\n",
       "Was okay      564\n",
       "Not great     304\n",
       "Hated it      193\n",
       "Name: rating, dtype: int64"
      ]
     },
     "execution_count": 108,
     "metadata": {},
     "output_type": "execute_result"
    }
   ],
   "source": [
    "reviews['rating'].value_counts()"
   ]
  },
  {
   "attachments": {},
   "cell_type": "markdown",
   "metadata": {},
   "source": [
    "Create a dictionary called rating_dict where the keys are what is currently in the feature and the values are what we want in the new column. You can use the hierarchy listed above to make your dictionary.\n",
    "\n",
    "\n"
   ]
  },
  {
   "cell_type": "code",
   "execution_count": 109,
   "metadata": {},
   "outputs": [],
   "source": [
    "rating_dict = {'Loved it':5, 'Liked_it':4, 'Was okay':3, 'Not great':2, 'Hated it':1}"
   ]
  },
  {
   "attachments": {},
   "cell_type": "markdown",
   "metadata": {},
   "source": [
    "Using rating_dict, transform the rating column so it contains numerical values. Print the results using .value_counts() to confirm the transformation.\n",
    "\n",
    "\n"
   ]
  },
  {
   "cell_type": "code",
   "execution_count": 110,
   "metadata": {},
   "outputs": [],
   "source": [
    "reviews['rating'] = reviews['rating'].map(rating_dict)"
   ]
  },
  {
   "cell_type": "code",
   "execution_count": 111,
   "metadata": {},
   "outputs": [
    {
     "data": {
      "text/plain": [
       "5.0    2798\n",
       "3.0     564\n",
       "2.0     304\n",
       "1.0     193\n",
       "Name: rating, dtype: int64"
      ]
     },
     "execution_count": 111,
     "metadata": {},
     "output_type": "execute_result"
    }
   ],
   "source": [
    "reviews['rating'].value_counts()"
   ]
  },
  {
   "attachments": {},
   "cell_type": "markdown",
   "metadata": {},
   "source": [
    "Let’s now transform the department_name feature. This process will be slightly different, but start by printing the .value_counts() of the feature.\n",
    "\n",
    "Use Panda’s get_dummies to one-hot encode our feature.\n",
    "Attach the results back to our original data frame.\n",
    "Print the column names to see!\n",
    "\n"
   ]
  },
  {
   "cell_type": "code",
   "execution_count": 112,
   "metadata": {},
   "outputs": [
    {
     "data": {
      "text/plain": [
       "Tops        2196\n",
       "Dresses     1322\n",
       "Bottoms      848\n",
       "Intimate     378\n",
       "Jackets      224\n",
       "Trend         28\n",
       "Name: department_name, dtype: int64"
      ]
     },
     "execution_count": 112,
     "metadata": {},
     "output_type": "execute_result"
    }
   ],
   "source": [
    "reviews['department_name'].value_counts()"
   ]
  },
  {
   "cell_type": "code",
   "execution_count": 113,
   "metadata": {},
   "outputs": [],
   "source": [
    "one_hot = pd.get_dummies(reviews['department_name'])"
   ]
  },
  {
   "cell_type": "code",
   "execution_count": 114,
   "metadata": {},
   "outputs": [],
   "source": [
    "reviews = reviews.join(one_hot)"
   ]
  },
  {
   "cell_type": "code",
   "execution_count": 115,
   "metadata": {},
   "outputs": [
    {
     "data": {
      "text/plain": [
       "Index(['clothing_id', 'age', 'review_title', 'review_text', 'recommended',\n",
       "       'division_name', 'department_name', 'review_date', 'rating', 'Bottoms',\n",
       "       'Dresses', 'Intimate', 'Jackets', 'Tops', 'Trend'],\n",
       "      dtype='object')"
      ]
     },
     "execution_count": 115,
     "metadata": {},
     "output_type": "execute_result"
    }
   ],
   "source": [
    "reviews.columns"
   ]
  },
  {
   "attachments": {},
   "cell_type": "markdown",
   "metadata": {},
   "source": [
    "Let’s make one more feature transformation!\n",
    "\n",
    "Transform the review_date feature.\n",
    "\n",
    "This feature is listed as an object type, but we want this to be transformed into a date-time feature.\n",
    "\n",
    "Transform review_date into a date-time feature.\n",
    "Print the feature type to confirm the transformation.\n"
   ]
  },
  {
   "cell_type": "code",
   "execution_count": 116,
   "metadata": {},
   "outputs": [
    {
     "data": {
      "text/plain": [
       "dtype('O')"
      ]
     },
     "execution_count": 116,
     "metadata": {},
     "output_type": "execute_result"
    }
   ],
   "source": [
    "reviews['review_date'].dtype"
   ]
  },
  {
   "cell_type": "code",
   "execution_count": 117,
   "metadata": {},
   "outputs": [],
   "source": [
    "reviews['review_date'] = pd.to_datetime(reviews['review_date'])"
   ]
  },
  {
   "cell_type": "code",
   "execution_count": 118,
   "metadata": {},
   "outputs": [
    {
     "data": {
      "text/plain": [
       "dtype('<M8[ns]')"
      ]
     },
     "execution_count": 118,
     "metadata": {},
     "output_type": "execute_result"
    }
   ],
   "source": [
    "reviews['review_date'].dtype"
   ]
  },
  {
   "cell_type": "code",
   "execution_count": 119,
   "metadata": {},
   "outputs": [
    {
     "data": {
      "text/plain": [
       "clothing_id                 int64\n",
       "age                         int64\n",
       "review_title               object\n",
       "review_text                object\n",
       "recommended                 int64\n",
       "division_name              object\n",
       "department_name            object\n",
       "review_date        datetime64[ns]\n",
       "rating                    float64\n",
       "Bottoms                     uint8\n",
       "Dresses                     uint8\n",
       "Intimate                    uint8\n",
       "Jackets                     uint8\n",
       "Tops                        uint8\n",
       "Trend                       uint8\n",
       "dtype: object"
      ]
     },
     "execution_count": 119,
     "metadata": {},
     "output_type": "execute_result"
    }
   ],
   "source": [
    "reviews.dtypes"
   ]
  },
  {
   "cell_type": "code",
   "execution_count": 120,
   "metadata": {},
   "outputs": [
    {
     "data": {
      "text/plain": [
       "Index(['clothing_id', 'age', 'review_title', 'review_text', 'recommended',\n",
       "       'division_name', 'department_name', 'review_date', 'rating', 'Bottoms',\n",
       "       'Dresses', 'Intimate', 'Jackets', 'Tops', 'Trend'],\n",
       "      dtype='object')"
      ]
     },
     "execution_count": 120,
     "metadata": {},
     "output_type": "execute_result"
    }
   ],
   "source": [
    "reviews.columns"
   ]
  },
  {
   "attachments": {},
   "cell_type": "markdown",
   "metadata": {},
   "source": [
    "The final step we will take in our transformation project is scaling our data. We notice that we have a wide range of numbers thus far, so it is best to put everything on the same scale.\n",
    "\n",
    "Let’s get our data frame to only have the numerical features we created."
   ]
  },
  {
   "cell_type": "code",
   "execution_count": 121,
   "metadata": {},
   "outputs": [],
   "source": [
    "reviews = reviews[['clothing_id', 'age', 'recommended',\n",
    "       'rating', 'Bottoms', 'Dresses', 'Intimate', 'Jackets', 'Tops', 'Trend']].copy()"
   ]
  },
  {
   "attachments": {},
   "cell_type": "markdown",
   "metadata": {},
   "source": [
    "Reset the index to be our clothing_id feature.\n",
    "\n",
    "\n"
   ]
  },
  {
   "cell_type": "code",
   "execution_count": 122,
   "metadata": {},
   "outputs": [],
   "source": [
    "reviews = reviews.set_index(reviews['clothing_id'])"
   ]
  },
  {
   "attachments": {},
   "cell_type": "markdown",
   "metadata": {},
   "source": [
    "We are ready to scale our data! Perform a .fit_transform() on our data set, and print the results to see how the features have changed.\n",
    "\n",
    "\n"
   ]
  },
  {
   "cell_type": "code",
   "execution_count": 123,
   "metadata": {},
   "outputs": [],
   "source": [
    "scaler = StandardScaler()"
   ]
  },
  {
   "cell_type": "code",
   "execution_count": 124,
   "metadata": {},
   "outputs": [
    {
     "data": {
      "text/plain": [
       "array([[ 0.85669131, -0.34814459,  0.44742824, ..., -0.21656679,\n",
       "        -0.88496718, -0.07504356],\n",
       "       [ 0.85669131, -1.24475223,  0.44742824, ..., -0.21656679,\n",
       "        -0.88496718, -0.07504356],\n",
       "       [-1.06545809, -0.51116416,  0.44742824, ..., -0.21656679,\n",
       "        -0.88496718, -0.07504356],\n",
       "       ...,\n",
       "       [ 0.81300609, -0.59267395,  0.44742824, ..., -0.21656679,\n",
       "        -0.88496718, -0.07504356],\n",
       "       [ 0.55574873, -1.24475223,  0.44742824, ..., -0.21656679,\n",
       "        -0.88496718, -0.07504356],\n",
       "       [-0.33251728,  1.68960003,  0.44742824, ..., -0.21656679,\n",
       "         1.12998541, -0.07504356]])"
      ]
     },
     "execution_count": 124,
     "metadata": {},
     "output_type": "execute_result"
    }
   ],
   "source": [
    "scaler.fit_transform(reviews)"
   ]
  }
 ],
 "metadata": {
  "kernelspec": {
   "display_name": "Python 3",
   "language": "python",
   "name": "python3"
  },
  "language_info": {
   "codemirror_mode": {
    "name": "ipython",
    "version": 3
   },
   "file_extension": ".py",
   "mimetype": "text/x-python",
   "name": "python",
   "nbconvert_exporter": "python",
   "pygments_lexer": "ipython3",
   "version": "3.10.9"
  },
  "orig_nbformat": 4,
  "vscode": {
   "interpreter": {
    "hash": "da41a09902426c17f8b1259e92b559cedcb2a26624b80b6e2df84a72ad457b4e"
   }
  }
 },
 "nbformat": 4,
 "nbformat_minor": 2
}
